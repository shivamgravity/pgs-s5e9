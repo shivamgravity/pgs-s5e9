{
 "cells": [
  {
   "cell_type": "markdown",
   "id": "911aaa4e",
   "metadata": {},
   "source": [
    "# Exploratory Data Analysis\n",
    "## Kaggle Playground Series Season 5 Episode 9 - September, 2025."
   ]
  },
  {
   "cell_type": "markdown",
   "id": "8a1c1726",
   "metadata": {},
   "source": [
    "## Import Required Libraries"
   ]
  },
  {
   "cell_type": "code",
   "execution_count": null,
   "metadata": {
    "vscode": {
     "languageId": "plaintext"
    }
   },
   "outputs": [],
   "source": [
    "import pandas as pd"
   ]
  },
  {
   "cell_type": "markdown",
   "id": "facc58e9",
   "metadata": {},
   "source": [
    "## Read the Dataset"
   ]
  },
  {
   "cell_type": "code",
   "execution_count": null,
   "id": "d07e593a",
   "metadata": {
    "vscode": {
     "languageId": "plaintext"
    }
   },
   "outputs": [],
   "source": [
    "train = pd.read_csv(\"../dataset/train.csv\")\n",
    "test = pd.read_csv(\"../dataset/test.csv\")"
   ]
  }
 ],
 "metadata": {
  "language_info": {
   "name": "python"
  }
 },
 "nbformat": 4,
 "nbformat_minor": 5
}
