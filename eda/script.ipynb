{
 "cells": [
  {
   "cell_type": "markdown",
   "id": "911aaa4e",
   "metadata": {},
   "source": [
    "# Exploratory Data Analysis\n",
    "## Kaggle Playground Series Season 5 Episode 9 - September, 2025."
   ]
  }
 ],
 "metadata": {
  "language_info": {
   "name": "python"
  }
 },
 "nbformat": 4,
 "nbformat_minor": 5
}
